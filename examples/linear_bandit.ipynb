{
 "cells": [
  {
   "cell_type": "code",
   "execution_count": 15,
   "metadata": {
    "id": "HGDOzfXRtav4"
   },
   "outputs": [],
   "source": [
    "import sys\n",
    "sys.path.append('../')\n",
    "\n",
    "import matplotlib.pyplot as plt\n",
    "import numpy as np\n",
    "import tempfile\n",
    "import seaborn as sns\n",
    "sns.set(style=\"darkgrid\")\n",
    "\n",
    "import logging\n",
    "logging.getLogger().setLevel(logging.INFO)\n",
    "\n",
    "from banditpylib import trials_to_dataframe\n",
    "from banditpylib.bandits import LinearBandit\n",
    "from banditpylib.arms import GaussianArm\n",
    "from banditpylib.protocols import SinglePlayerProtocol\n",
    "from banditpylib.learners.linear_bandit_learner import LinUCB\n",
    "from banditpylib.learners.mab_learner import UCB"
   ]
  },
  {
   "cell_type": "code",
   "execution_count": 16,
   "metadata": {
    "id": "hEeg9MS3uWmT"
   },
   "outputs": [],
   "source": [
    "num_arms = 100\n",
    "horizon = 2000\n",
    "delta = 1 / horizon\n",
    "lambda_reg = 1e-3"
   ]
  },
  {
   "cell_type": "code",
   "execution_count": 17,
   "metadata": {
    "id": "NNorEU6Cul2U"
   },
   "outputs": [],
   "source": [
    "features = [np.random.normal(0, size=5) for _ in range(num_arms)]\n",
    "for i in range(len(features)):\n",
    "    features[i] = features[i] / np.linalg.norm(features[i])\n",
    "\n",
    "theta = np.random.normal(0, size=5)"
   ]
  },
  {
   "cell_type": "code",
   "execution_count": 18,
   "metadata": {
    "id": "d8AHoSwTxCOl"
   },
   "outputs": [],
   "source": [
    "bandit = LinearBandit(features, theta)\n",
    "learners = [LinUCB(features, delta, lambda_reg), UCB(num_arms)]"
   ]
  },
  {
   "cell_type": "code",
   "execution_count": 19,
   "metadata": {
    "id": "DshtU4B-xyUg"
   },
   "outputs": [],
   "source": [
    "intermediate_horizons = list(range(0, horizon+1, 50))\n",
    "temp_file = tempfile.NamedTemporaryFile()"
   ]
  },
  {
   "cell_type": "code",
   "execution_count": 20,
   "metadata": {
    "id": "jkYe4BeCx1zV"
   },
   "outputs": [],
   "source": [
    "game = SinglePlayerProtocol(bandit, learners)"
   ]
  },
  {
   "cell_type": "code",
   "execution_count": null,
   "metadata": {
    "id": "xYrdAnGlx_2v"
   },
   "outputs": [
    {
     "name": "stderr",
     "output_type": "stream",
     "text": [
      "INFO:absl:start linucb's play with linear_bandit\n",
      "INFO:absl:linucb's play with linear_bandit runs 21.67 seconds.\n",
      "INFO:absl:start ucb's play with linear_bandit\n"
     ]
    }
   ],
   "source": [
    "game.play(200, temp_file.name, intermediate_horizons=intermediate_horizons, horizon=horizon)"
   ]
  },
  {
   "cell_type": "code",
   "execution_count": null,
   "metadata": {
    "id": "O26X5G-ayO8n"
   },
   "outputs": [],
   "source": [
    "trials_df = trials_to_dataframe(temp_file.name)"
   ]
  },
  {
   "cell_type": "code",
   "execution_count": null,
   "metadata": {},
   "outputs": [],
   "source": [
    "trials_df.head()"
   ]
  },
  {
   "cell_type": "code",
   "execution_count": null,
   "metadata": {
    "colab": {
     "base_uri": "https://localhost:8080/",
     "height": 285
    },
    "id": "JYsG0GdXyYiU",
    "outputId": "0b079777-ff08-4400-fb40-ab48a74651f6"
   },
   "outputs": [],
   "source": [
    "sns.lineplot(x='total_actions', y='regret', hue='learner', data=trials_df)\n",
    "plt.show()"
   ]
  },
  {
   "cell_type": "code",
   "execution_count": null,
   "metadata": {},
   "outputs": [],
   "source": []
  }
 ],
 "metadata": {
  "colab": {
   "collapsed_sections": [],
   "name": "example_LinUCB.ipynb",
   "provenance": [],
   "toc_visible": true
  },
  "kernelspec": {
   "display_name": "Python 3 (ipykernel)",
   "language": "python",
   "name": "python3"
  },
  "language_info": {
   "codemirror_mode": {
    "name": "ipython",
    "version": 3
   },
   "file_extension": ".py",
   "mimetype": "text/x-python",
   "name": "python",
   "nbconvert_exporter": "python",
   "pygments_lexer": "ipython3",
   "version": "3.9.9"
  }
 },
 "nbformat": 4,
 "nbformat_minor": 1
}
