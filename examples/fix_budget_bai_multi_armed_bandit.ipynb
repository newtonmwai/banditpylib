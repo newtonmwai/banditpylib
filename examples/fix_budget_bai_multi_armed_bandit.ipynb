{
 "cells": [
  {
   "cell_type": "code",
   "execution_count": 8,
   "metadata": {},
   "outputs": [],
   "source": [
    "import sys\n",
    "sys.path.append('../')\n",
    "\n",
    "import numpy as np\n",
    "import tempfile\n",
    "import json\n",
    "import matplotlib.pyplot as plt\n",
    "import seaborn as sns\n",
    "sns.set(style=\"darkgrid\")\n",
    "\n",
    "import logging\n",
    "logging.getLogger().setLevel(logging.INFO)\n",
    "\n",
    "from banditpylib import trials_to_dataframe\n",
    "from banditpylib.arms import BernoulliArm\n",
    "from banditpylib.bandits import MultiArmedBandit\n",
    "from banditpylib.protocols import SinglePlayerProtocol\n",
    "from banditpylib.learners.mab_fbbai_learner import Uniform, SR, SH"
   ]
  },
  {
   "cell_type": "code",
   "execution_count": 9,
   "metadata": {},
   "outputs": [],
   "source": [
    "budget = 1000\n",
    "means = np.random.uniform(0, 1, 50)\n",
    "arms = [BernoulliArm(mean) for mean in means]\n",
    "bandit = MultiArmedBandit(arms=arms)\n",
    "learners = [Uniform(arm_num=len(arms), budget=budget, name='Uniform Sampling'), \n",
    "            SR(arm_num=len(arms), budget=budget, name='Successive Rejects'),\n",
    "            SH(arm_num=len(arms), budget=budget, name='Sequential Halving')]\n",
    "# For each setup, we run 500 trials\n",
    "trials = 500\n",
    "temp_file = tempfile.NamedTemporaryFile()"
   ]
  },
  {
   "cell_type": "code",
   "execution_count": 10,
   "metadata": {},
   "outputs": [
    {
     "name": "stderr",
     "output_type": "stream",
     "text": [
      "INFO:absl:start Uniform Sampling's play with multi_armed_bandit\n",
      "INFO:absl:Uniform Sampling's play with multi_armed_bandit runs 3.18 seconds.\n",
      "INFO:absl:start Successive Rejects's play with multi_armed_bandit\n",
      "INFO:absl:Successive Rejects's play with multi_armed_bandit runs 5.64 seconds.\n",
      "INFO:absl:start Sequential Halving's play with multi_armed_bandit\n",
      "INFO:absl:Sequential Halving's play with multi_armed_bandit runs 3.21 seconds.\n"
     ]
    }
   ],
   "source": [
    "game = SinglePlayerProtocol(bandit=bandit, learners=learners)\n",
    "# Start playing the game\n",
    "# Add `debug=True` for debugging purpose\n",
    "game.play(trials=trials, output_filename=temp_file.name)"
   ]
  },
  {
   "cell_type": "code",
   "execution_count": 11,
   "metadata": {},
   "outputs": [],
   "source": [
    "trials_df = trials_to_dataframe(temp_file.name)"
   ]
  },
  {
   "cell_type": "code",
   "execution_count": 12,
   "metadata": {},
   "outputs": [
    {
     "data": {
      "text/html": [
       "<div>\n",
       "<style scoped>\n",
       "    .dataframe tbody tr th:only-of-type {\n",
       "        vertical-align: middle;\n",
       "    }\n",
       "\n",
       "    .dataframe tbody tr th {\n",
       "        vertical-align: top;\n",
       "    }\n",
       "\n",
       "    .dataframe thead th {\n",
       "        text-align: right;\n",
       "    }\n",
       "</style>\n",
       "<table border=\"1\" class=\"dataframe\">\n",
       "  <thead>\n",
       "    <tr style=\"text-align: right;\">\n",
       "      <th></th>\n",
       "      <th>rounds</th>\n",
       "      <th>total_actions</th>\n",
       "      <th>regret</th>\n",
       "      <th>other</th>\n",
       "      <th>bandit</th>\n",
       "      <th>learner</th>\n",
       "    </tr>\n",
       "  </thead>\n",
       "  <tbody>\n",
       "    <tr>\n",
       "      <th>0</th>\n",
       "      <td>1</td>\n",
       "      <td>1000</td>\n",
       "      <td>1.0</td>\n",
       "      <td>0.0</td>\n",
       "      <td>multi_armed_bandit</td>\n",
       "      <td>Uniform Sampling</td>\n",
       "    </tr>\n",
       "    <tr>\n",
       "      <th>1</th>\n",
       "      <td>1</td>\n",
       "      <td>1000</td>\n",
       "      <td>0.0</td>\n",
       "      <td>0.0</td>\n",
       "      <td>multi_armed_bandit</td>\n",
       "      <td>Uniform Sampling</td>\n",
       "    </tr>\n",
       "    <tr>\n",
       "      <th>2</th>\n",
       "      <td>1</td>\n",
       "      <td>1000</td>\n",
       "      <td>0.0</td>\n",
       "      <td>0.0</td>\n",
       "      <td>multi_armed_bandit</td>\n",
       "      <td>Uniform Sampling</td>\n",
       "    </tr>\n",
       "    <tr>\n",
       "      <th>3</th>\n",
       "      <td>1</td>\n",
       "      <td>1000</td>\n",
       "      <td>1.0</td>\n",
       "      <td>0.0</td>\n",
       "      <td>multi_armed_bandit</td>\n",
       "      <td>Uniform Sampling</td>\n",
       "    </tr>\n",
       "    <tr>\n",
       "      <th>4</th>\n",
       "      <td>1</td>\n",
       "      <td>1000</td>\n",
       "      <td>0.0</td>\n",
       "      <td>0.0</td>\n",
       "      <td>multi_armed_bandit</td>\n",
       "      <td>Uniform Sampling</td>\n",
       "    </tr>\n",
       "  </tbody>\n",
       "</table>\n",
       "</div>"
      ],
      "text/plain": [
       "   rounds  total_actions  regret  other              bandit           learner\n",
       "0       1           1000     1.0    0.0  multi_armed_bandit  Uniform Sampling\n",
       "1       1           1000     0.0    0.0  multi_armed_bandit  Uniform Sampling\n",
       "2       1           1000     0.0    0.0  multi_armed_bandit  Uniform Sampling\n",
       "3       1           1000     1.0    0.0  multi_armed_bandit  Uniform Sampling\n",
       "4       1           1000     0.0    0.0  multi_armed_bandit  Uniform Sampling"
      ]
     },
     "execution_count": 12,
     "metadata": {},
     "output_type": "execute_result"
    }
   ],
   "source": [
    "trials_df.head()"
   ]
  },
  {
   "cell_type": "code",
   "execution_count": 13,
   "metadata": {},
   "outputs": [
    {
     "data": {
      "text/plain": [
       "<matplotlib.legend.Legend at 0x12ad1b4f0>"
      ]
     },
     "execution_count": 13,
     "metadata": {},
     "output_type": "execute_result"
    },
    {
     "data": {
      "image/png": "[encoded data removed]",
      "text/plain": [
       "<Figure size 432x288 with 1 Axes>"
      ]
     },
     "metadata": {},
     "output_type": "display_data"
    }
   ],
   "source": [
    "fig = plt.figure()\n",
    "ax = plt.subplot(111)\n",
    "sns.barplot(x='total_actions', y='regret', hue='learner', data=trials_df)\n",
    "plt.xlabel('pulls')\n",
    "plt.ylabel('error_probability')\n",
    "ax.legend(loc='center left', bbox_to_anchor=(1, 0.5))"
   ]
  },
  {
   "cell_type": "code",
   "execution_count": 14,
   "metadata": {},
   "outputs": [
    {
     "data": {
      "text/plain": [
       "<matplotlib.legend.Legend at 0x12b322340>"
      ]
     },
     "execution_count": 14,
     "metadata": {},
     "output_type": "execute_result"
    },
    {
     "data": {
      "image/png": "[encoded data removed]",
      "text/plain": [
       "<Figure size 432x288 with 1 Axes>"
      ]
     },
     "metadata": {},
     "output_type": "display_data"
    }
   ],
   "source": [
    "fig = plt.figure()\n",
    "ax = plt.subplot(111)\n",
    "sns.barplot(x='total_actions', y='rounds', hue='learner', data=trials_df)\n",
    "plt.xlabel('pulls')\n",
    "plt.ylabel('communication_rounds')\n",
    "ax.legend(loc='center left', bbox_to_anchor=(1, 0.5))"
   ]
  },
  {
   "cell_type": "code",
   "execution_count": null,
   "metadata": {},
   "outputs": [],
   "source": []
  }
 ],
 "metadata": {
  "kernelspec": {
   "display_name": "Python 3 (ipykernel)",
   "language": "python",
   "name": "python3"
  },
  "language_info": {
   "codemirror_mode": {
    "name": "ipython",
    "version": 3
   },
   "file_extension": ".py",
   "mimetype": "text/x-python",
   "name": "python",
   "nbconvert_exporter": "python",
   "pygments_lexer": "ipython3",
   "version": "3.9.9"
  }
 },
 "nbformat": 4,
 "nbformat_minor": 2
}
