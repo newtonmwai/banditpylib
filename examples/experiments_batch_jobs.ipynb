{
 "cells": [
  {
   "cell_type": "code",
   "execution_count": 9,
   "metadata": {},
   "outputs": [],
   "source": [
    "import time"
   ]
  },
  {
   "cell_type": "code",
   "execution_count": 10,
   "metadata": {},
   "outputs": [],
   "source": [
    "project = 'SNIC2022-22-825'\n",
    "username = 'mwai'"
   ]
  },
  {
   "cell_type": "code",
   "execution_count": 18,
   "metadata": {},
   "outputs": [
    {
     "name": "stdout",
     "output_type": "stream",
     "text": [
      "             JOBID PARTITION     NAME     USER ST       TIME  NODES NODELIST(REASON)\n",
      "           1219559     alvis sys/dash     mwai  R 6-15:02:03      1 alvis2-02\n",
      "           1229291     alvis bash_run     mwai  R       0:49      1 alvis2-02\n",
      "           1229292     alvis bash_run     mwai  R       0:49      1 alvis2-02\n",
      "           1229293     alvis bash_run     mwai  R       0:49      1 alvis2-02\n",
      "           1229289     alvis bash_run     mwai  R       0:52      1 alvis2-01\n",
      "           1229290     alvis bash_run     mwai  R       0:52      1 alvis2-02\n",
      "           1229284     alvis bash_run     mwai  R       1:45      1 alvis2-01\n",
      "           1229285     alvis bash_run     mwai  R       1:45      1 alvis2-01\n",
      "           1229286     alvis bash_run     mwai  R       1:45      1 alvis2-01\n",
      "           1229287     alvis bash_run     mwai  R       1:45      1 alvis2-01\n",
      "           1229288     alvis bash_run     mwai  R       1:45      1 alvis2-01\n"
     ]
    }
   ],
   "source": [
    "!squeue -u $username"
   ]
  },
  {
   "cell_type": "code",
   "execution_count": 12,
   "metadata": {},
   "outputs": [],
   "source": [
    "#!scancel 151449"
   ]
  },
  {
   "cell_type": "code",
   "execution_count": 15,
   "metadata": {},
   "outputs": [
    {
     "name": "stdout",
     "output_type": "stream",
     "text": [
      "#!/usr/bin/bash\n",
      "\n",
      "#SBATCH -t 1-00:00:00\n",
      "#SBATCH -N 1 --gpus-per-node=T4:1\n",
      "#SBATCH -p alvis\n",
      "\n",
      "if [ -z \"$rho\" ]\n",
      "then\n",
      "    epsilon=0.1\n",
      "fi\n",
      "\n",
      ". load_modules.sh\n",
      "\n",
      "call workon mwai_env_bundle & python experiments.py -r $rho\n"
     ]
    }
   ],
   "source": [
    "job = 'bash_run_experiments_rho.sbatch'\n",
    "!cat $job"
   ]
  },
  {
   "cell_type": "code",
   "execution_count": 14,
   "metadata": {},
   "outputs": [],
   "source": [
    "batch_sizes = [20, 50, 100, 500, 1000]\n",
    "rhos= [0.05, 0.25, 0.5, 0.75, 0.95]\n",
    "fids = []"
   ]
  },
  {
   "cell_type": "markdown",
   "metadata": {},
   "source": [
    "# $\\rho$"
   ]
  },
  {
   "cell_type": "code",
   "execution_count": 16,
   "metadata": {},
   "outputs": [
    {
     "name": "stdout",
     "output_type": "stream",
     "text": [
      "['Submitted batch job 1229284']\n",
      "['Submitted batch job 1229285']\n",
      "['Submitted batch job 1229286']\n",
      "['Submitted batch job 1229287']\n",
      "['Submitted batch job 1229288']\n"
     ]
    }
   ],
   "source": [
    "job = 'bash_run_experiments_rho.sbatch'\n",
    "for rho in rhos:\n",
    "    fid = './logs/run_experiments-%s' % (rho)\n",
    "\n",
    "    output = !sbatch -o \"$fid\"-%j.out -e \"$fid\"-%j.err -A $project --export=rho=$rho $job\n",
    "    !unset rho\n",
    "\n",
    "    print(output)\n",
    "    #time.sleep(1)\n",
    "\n",
    "    jobid = int(output[0].split(' ')[-1])\n",
    "    fid = fid+'-%s' % jobid\n",
    "\n",
    "    fids.append(fid)"
   ]
  },
  {
   "cell_type": "code",
   "execution_count": 20,
   "metadata": {},
   "outputs": [],
   "source": [
    "# job = 'bash_run_experiments_rho.sbatch'\n",
    "# for rho in rhos:\n",
    "#     for batch_size in batch_sizes:\n",
    "#         fid = './logs/run_experiments-%s-%s' % (rho, batch_size)\n",
    "    \n",
    "#         output = !sbatch -o \"$fid\"-%j.out -e \"$fid\"-%j.err -A $project --export=rho=$rho --export=batch_size=$batch_size $job\n",
    "#         !unset rho\n",
    "#         !unset batch_size\n",
    "    \n",
    "#         print(output)\n",
    "#         #time.sleep(1)\n",
    "    \n",
    "#         jobid = int(output[0].split(' ')[-1])\n",
    "#         fid = fid+'-%s' % jobid\n",
    "    \n",
    "#         fids.append(fid)\n"
   ]
  },
  {
   "cell_type": "markdown",
   "metadata": {},
   "source": [
    "# $batch~size$"
   ]
  },
  {
   "cell_type": "code",
   "execution_count": 17,
   "metadata": {},
   "outputs": [
    {
     "name": "stdout",
     "output_type": "stream",
     "text": [
      "['Submitted batch job 1229289']\n",
      "['Submitted batch job 1229290']\n",
      "['Submitted batch job 1229291']\n",
      "['Submitted batch job 1229292']\n",
      "['Submitted batch job 1229293']\n"
     ]
    }
   ],
   "source": [
    "job = 'bash_run_experiments_batch_size.sbatch'\n",
    "for batch_size in batch_sizes:\n",
    "    fid = './logs/run_experiments-%s' % (batch_size)\n",
    "\n",
    "    output = !sbatch -o \"$fid\"-%j.out -e \"$fid\"-%j.err -A $project --export=batch_size=$batch_size $job\n",
    "    !unset batch_size\n",
    "\n",
    "    print(output)\n",
    "    #time.sleep(1)\n",
    "\n",
    "    jobid = int(output[0].split(' ')[-1])\n",
    "    fid = fid+'-%s' % jobid\n",
    "\n",
    "    fids.append(fid)"
   ]
  }
 ],
 "metadata": {
  "kernelspec": {
   "display_name": "Python 3 (ipykernel)",
   "language": "python",
   "name": "python3"
  },
  "language_info": {
   "codemirror_mode": {
    "name": "ipython",
    "version": 3
   },
   "file_extension": ".py",
   "mimetype": "text/x-python",
   "name": "python",
   "nbconvert_exporter": "python",
   "pygments_lexer": "ipython3",
   "version": "3.9.5"
  }
 },
 "nbformat": 4,
 "nbformat_minor": 4
}
