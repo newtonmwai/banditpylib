{
 "cells": [
  {
   "cell_type": "code",
   "execution_count": 50,
   "metadata": {},
   "outputs": [],
   "source": [
    "import time"
   ]
  },
  {
   "cell_type": "code",
   "execution_count": 66,
   "metadata": {},
   "outputs": [],
   "source": [
    "project = 'SNIC2022-22-825'\n",
    "username = 'mwai'"
   ]
  },
  {
   "cell_type": "code",
   "execution_count": 74,
   "metadata": {},
   "outputs": [
    {
     "name": "stdout",
     "output_type": "stream",
     "text": [
      "             JOBID PARTITION     NAME     USER ST       TIME  NODES NODELIST(REASON)\n",
      "           1236602     alvis bash_run     mwai  R       0:07      1 alvis4-32\n",
      "           1236603     alvis bash_run     mwai  R       0:07      1 alvis4-36\n",
      "           1236604     alvis bash_run     mwai  R       0:07      1 alvis4-36\n",
      "           1236605     alvis bash_run     mwai  R       0:07      1 alvis4-37\n",
      "           1236606     alvis bash_run     mwai  R       0:07      1 alvis4-37\n",
      "           1236607     alvis bash_run     mwai  R       0:07      1 alvis3-28\n",
      "           1236608     alvis bash_run     mwai  R       0:07      1 alvis3-29\n",
      "           1236609     alvis bash_run     mwai  R       0:07      1 alvis3-30\n",
      "           1236610     alvis bash_run     mwai  R       0:07      1 alvis3-30\n",
      "           1236611     alvis bash_run     mwai  R       0:07      1 alvis3-30\n",
      "           1236612     alvis bash_run     mwai  R       0:07      1 alvis3-33\n",
      "           1236613     alvis bash_run     mwai  R       0:07      1 alvis3-33\n",
      "           1236614     alvis bash_run     mwai  R       0:07      1 alvis3-33\n",
      "           1236615     alvis bash_run     mwai  R       0:07      1 alvis3-33\n",
      "           1236616     alvis bash_run     mwai  R       0:07      1 alvis3-35\n",
      "           1236617     alvis bash_run     mwai  R       0:07      1 alvis3-35\n",
      "           1236618     alvis bash_run     mwai  R       0:07      1 alvis3-36\n",
      "           1236619     alvis bash_run     mwai  R       0:07      1 alvis3-36\n",
      "           1236620     alvis bash_run     mwai  R       0:07      1 alvis3-36\n",
      "           1236621     alvis bash_run     mwai  R       0:07      1 alvis3-36\n",
      "           1236622     alvis bash_run     mwai  R       0:07      1 alvis3-37\n",
      "           1236623     alvis bash_run     mwai  R       0:07      1 alvis3-37\n",
      "           1236624     alvis bash_run     mwai  R       0:07      1 alvis3-37\n",
      "           1236625     alvis bash_run     mwai  R       0:07      1 alvis3-37\n",
      "           1236103     alvis sys/dash     mwai  R    2:21:21      1 alvis2-01\n"
     ]
    }
   ],
   "source": [
    "!squeue -u $username"
   ]
  },
  {
   "cell_type": "code",
   "execution_count": 68,
   "metadata": {},
   "outputs": [],
   "source": [
    "#!scancel 1236597\n",
    "\n",
    "# import os\n",
    "\n",
    "# for i in range(1236562, 1236597):\n",
    "#     os.system(f\"scancel {i}\")"
   ]
  },
  {
   "cell_type": "code",
   "execution_count": 69,
   "metadata": {},
   "outputs": [],
   "source": [
    "fids = []\n",
    "batch_sizes = [4, 8, 32]\n",
    "rhos= [0, 1e1, 1e3, 1e5]\n",
    "# {\n",
    "# \"m1\": [0.7, 0.4, 0.1],\n",
    "# \"m2\": [0.9, 0.7, 0.4, 0.1],\n",
    "# \"m3\": [0.9, 0.7, 0.5, 0.4, 0.45, 0.4, 0.3, 0.2]\n",
    "# }\n",
    "_means = [\"m1\", \"m2\"]#, \"m3\"]#"
   ]
  },
  {
   "cell_type": "markdown",
   "metadata": {},
   "source": [
    "# Experiment for $batch~size$ and $\\rho$"
   ]
  },
  {
   "cell_type": "code",
   "execution_count": 70,
   "metadata": {},
   "outputs": [
    {
     "name": "stdout",
     "output_type": "stream",
     "text": [
      "['Submitted batch job 1236602']\n",
      "['Submitted batch job 1236603']\n",
      "['Submitted batch job 1236604']\n",
      "['Submitted batch job 1236605']\n",
      "['Submitted batch job 1236606']\n",
      "['Submitted batch job 1236607']\n",
      "['Submitted batch job 1236608']\n",
      "['Submitted batch job 1236609']\n",
      "['Submitted batch job 1236610']\n",
      "['Submitted batch job 1236611']\n",
      "['Submitted batch job 1236612']\n",
      "['Submitted batch job 1236613']\n",
      "['Submitted batch job 1236614']\n",
      "['Submitted batch job 1236615']\n",
      "['Submitted batch job 1236616']\n",
      "['Submitted batch job 1236617']\n",
      "['Submitted batch job 1236618']\n",
      "['Submitted batch job 1236619']\n",
      "['Submitted batch job 1236620']\n",
      "['Submitted batch job 1236621']\n",
      "['Submitted batch job 1236622']\n",
      "['Submitted batch job 1236623']\n",
      "['Submitted batch job 1236624']\n",
      "['Submitted batch job 1236625']\n"
     ]
    }
   ],
   "source": [
    "job = 'bash_run_experiments.sbatch'\n",
    "for means in _means:\n",
    "    for batch_size in batch_sizes:\n",
    "        for rho in rhos:\n",
    "            fid = './logs/run_experiments-%s-%s-%s' % (means, batch_size, rho)\n",
    "            output = !sbatch -o \"$fid\"-%j.out -e \"$fid\"-%j.err -A $project --export=rho=$rho,batch_size=$batch_size,means=$means $job\n",
    "            !unset rho\n",
    "            !unset batch_size\n",
    "            !unset means\n",
    "        \n",
    "            print(output)\n",
    "            \n",
    "            jobid = int(output[0].split(' ')[-1])\n",
    "            fid = fid+'-%s' % jobid\n",
    "    \n",
    "            fids.append(fid)"
   ]
  },
  {
   "cell_type": "markdown",
   "metadata": {},
   "source": [
    "# $\\rho$"
   ]
  },
  {
   "cell_type": "code",
   "execution_count": 94,
   "metadata": {},
   "outputs": [],
   "source": [
    "# job = 'bash_run_experiments_rho.sbatch'\n",
    "# for rho in rhos:\n",
    "#     fid = './logs/run_experiments-%s' % (rho)\n",
    "\n",
    "#     output = !sbatch -o \"$fid\"-%j.out -e \"$fid\"-%j.err -A $project --export=rho=$rho $job\n",
    "#     !unset rho\n",
    "\n",
    "#     print(output)\n",
    "#     #time.sleep(1)\n",
    "\n",
    "#     jobid = int(output[0].split(' ')[-1])\n",
    "#     fid = fid+'-%s' % jobid\n",
    "\n",
    "#     fids.append(fid)"
   ]
  },
  {
   "cell_type": "markdown",
   "metadata": {},
   "source": [
    "# $batch~size$"
   ]
  },
  {
   "cell_type": "code",
   "execution_count": 72,
   "metadata": {},
   "outputs": [
    {
     "name": "stdout",
     "output_type": "stream",
     "text": [
      "['Submitted batch job 1231555']\n",
      "['Submitted batch job 1231556']\n",
      "['Submitted batch job 1231557']\n",
      "['Submitted batch job 1231558']\n",
      "['Submitted batch job 1231559']\n"
     ]
    }
   ],
   "source": [
    "# job = 'bash_run_experiments_batch_size.sbatch'\n",
    "# for batch_size in batch_sizes:\n",
    "#     fid = './logs/run_experiments-%s' % (batch_size)\n",
    "\n",
    "#     output = !sbatch -o \"$fid\"-%j.out -e \"$fid\"-%j.err -A $project --export=batch_size=$batch_size $job\n",
    "#     !unset batch_size\n",
    "\n",
    "#     print(output)\n",
    "#     #time.sleep(1)\n",
    "\n",
    "#     jobid = int(output[0].split(' ')[-1])\n",
    "#     fid = fid+'-%s' % jobid\n",
    "\n",
    "#     fids.append(fid)"
   ]
  }
 ],
 "metadata": {
  "kernelspec": {
   "display_name": "Python 3 (ipykernel)",
   "language": "python",
   "name": "python3"
  },
  "language_info": {
   "codemirror_mode": {
    "name": "ipython",
    "version": 3
   },
   "file_extension": ".py",
   "mimetype": "text/x-python",
   "name": "python",
   "nbconvert_exporter": "python",
   "pygments_lexer": "ipython3",
   "version": "3.9.5"
  }
 },
 "nbformat": 4,
 "nbformat_minor": 4
}
