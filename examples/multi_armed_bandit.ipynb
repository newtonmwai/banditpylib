{
 "cells": [
  {
   "cell_type": "code",
   "execution_count": 29,
   "metadata": {},
   "outputs": [],
   "source": [
    "import sys\n",
    "sys.path.append('../')\n",
    "\n",
    "import matplotlib.pyplot as plt\n",
    "import numpy as np\n",
    "import tempfile\n",
    "import seaborn as sns\n",
    "sns.set(style=\"darkgrid\")\n",
    "import random\n",
    "\n",
    "import logging\n",
    "logging.getLogger().setLevel(logging.INFO)\n",
    "\n",
    "from banditpylib import trials_to_dataframe\n",
    "from banditpylib.arms import BernoulliArm, GaussianArm\n",
    "from banditpylib.bandits import MultiArmedBandit\n",
    "from banditpylib.protocols import SinglePlayerProtocol\n",
    "from banditpylib.learners.mab_learner import UCB, EpsGreedy, ThompsonSampling, ExploreThenCommit"
   ]
  },
  {
   "cell_type": "markdown",
   "metadata": {},
   "source": [
    "### Bernoulli Arms"
   ]
  },
  {
   "cell_type": "code",
   "execution_count": 63,
   "metadata": {},
   "outputs": [],
   "source": [
    "horizon = 2000\n",
    "means = np.array([0.3, 0.65, 0.7])\n",
    "arms = [BernoulliArm(mean) for mean in means]\n",
    "bandit = MultiArmedBandit(arms=arms)\n",
    "learners = [ExploreThenCommit(arm_num=len(arms), T_prime=500, name='Explore Then Commit'),\n",
    "            EpsGreedy(arm_num=len(arms), name='Epsilon Greedy'), \n",
    "            UCB(arm_num=len(arms), name='UCB'),\n",
    "            ThompsonSampling(arm_num=len(arms), name='Thompson Sampling')]\n",
    "# Report intermediate regrets after these horizons\n",
    "intermediate_horizons = list(range(0, horizon+1, 50))\n",
    "temp_file = tempfile.NamedTemporaryFile()"
   ]
  },
  {
   "cell_type": "code",
   "execution_count": 64,
   "metadata": {},
   "outputs": [
    {
     "name": "stderr",
     "output_type": "stream",
     "text": [
      "INFO:absl:start Explore Then Commit's play with multi_armed_bandit\n",
      "INFO:absl:Explore Then Commit's play with multi_armed_bandit runs 1.06 seconds.\n",
      "INFO:absl:start Epsilon Greedy's play with multi_armed_bandit\n",
      "INFO:absl:Epsilon Greedy's play with multi_armed_bandit runs 1.07 seconds.\n",
      "INFO:absl:start UCB's play with multi_armed_bandit\n",
      "INFO:absl:UCB's play with multi_armed_bandit runs 1.29 seconds.\n",
      "INFO:absl:start Thompson Sampling's play with multi_armed_bandit\n",
      "INFO:absl:Thompson Sampling's play with multi_armed_bandit runs 1.10 seconds.\n"
     ]
    }
   ],
   "source": [
    "game = SinglePlayerProtocol(bandit, learners)\n",
    "# Start playing the game\n",
    "# Add `debug=True` for debugging purpose\n",
    "game.play(200, temp_file.name, intermediate_horizons=intermediate_horizons, horizon=horizon, debug=True)"
   ]
  },
  {
   "cell_type": "code",
   "execution_count": 65,
   "metadata": {},
   "outputs": [
    {
     "data": {
      "text/html": [
       "<div>\n",
       "<style scoped>\n",
       "    .dataframe tbody tr th:only-of-type {\n",
       "        vertical-align: middle;\n",
       "    }\n",
       "\n",
       "    .dataframe tbody tr th {\n",
       "        vertical-align: top;\n",
       "    }\n",
       "\n",
       "    .dataframe thead th {\n",
       "        text-align: right;\n",
       "    }\n",
       "</style>\n",
       "<table border=\"1\" class=\"dataframe\">\n",
       "  <thead>\n",
       "    <tr style=\"text-align: right;\">\n",
       "      <th></th>\n",
       "      <th>rounds</th>\n",
       "      <th>total_actions</th>\n",
       "      <th>regret</th>\n",
       "      <th>other</th>\n",
       "      <th>bandit</th>\n",
       "      <th>learner</th>\n",
       "    </tr>\n",
       "  </thead>\n",
       "  <tbody>\n",
       "    <tr>\n",
       "      <th>0</th>\n",
       "      <td>0</td>\n",
       "      <td>0</td>\n",
       "      <td>0.0</td>\n",
       "      <td>0.0</td>\n",
       "      <td>multi_armed_bandit</td>\n",
       "      <td>Explore Then Commit</td>\n",
       "    </tr>\n",
       "    <tr>\n",
       "      <th>1</th>\n",
       "      <td>50</td>\n",
       "      <td>50</td>\n",
       "      <td>6.0</td>\n",
       "      <td>0.0</td>\n",
       "      <td>multi_armed_bandit</td>\n",
       "      <td>Explore Then Commit</td>\n",
       "    </tr>\n",
       "    <tr>\n",
       "      <th>2</th>\n",
       "      <td>100</td>\n",
       "      <td>100</td>\n",
       "      <td>11.0</td>\n",
       "      <td>0.0</td>\n",
       "      <td>multi_armed_bandit</td>\n",
       "      <td>Explore Then Commit</td>\n",
       "    </tr>\n",
       "    <tr>\n",
       "      <th>3</th>\n",
       "      <td>150</td>\n",
       "      <td>150</td>\n",
       "      <td>20.0</td>\n",
       "      <td>0.0</td>\n",
       "      <td>multi_armed_bandit</td>\n",
       "      <td>Explore Then Commit</td>\n",
       "    </tr>\n",
       "    <tr>\n",
       "      <th>4</th>\n",
       "      <td>200</td>\n",
       "      <td>200</td>\n",
       "      <td>30.0</td>\n",
       "      <td>0.0</td>\n",
       "      <td>multi_armed_bandit</td>\n",
       "      <td>Explore Then Commit</td>\n",
       "    </tr>\n",
       "  </tbody>\n",
       "</table>\n",
       "</div>"
      ],
      "text/plain": [
       "   rounds  total_actions  regret  other              bandit   \n",
       "0       0              0     0.0    0.0  multi_armed_bandit  \\\n",
       "1      50             50     6.0    0.0  multi_armed_bandit   \n",
       "2     100            100    11.0    0.0  multi_armed_bandit   \n",
       "3     150            150    20.0    0.0  multi_armed_bandit   \n",
       "4     200            200    30.0    0.0  multi_armed_bandit   \n",
       "\n",
       "               learner  \n",
       "0  Explore Then Commit  \n",
       "1  Explore Then Commit  \n",
       "2  Explore Then Commit  \n",
       "3  Explore Then Commit  \n",
       "4  Explore Then Commit  "
      ]
     },
     "execution_count": 65,
     "metadata": {},
     "output_type": "execute_result"
    }
   ],
   "source": [
    "trials_df = trials_to_dataframe(temp_file.name)\n",
    "trials_df.head()"
   ]
  },
  {
   "cell_type": "code",
   "execution_count": 66,
   "metadata": {},
   "outputs": [
    {
     "data": {
      "text/plain": [
       "<Axes: xlabel='total_actions', ylabel='regret'>"
      ]
     },
     "execution_count": 66,
     "metadata": {},
     "output_type": "execute_result"
    },
    {
     "data": {
      "image/png": "[encoded data removed]",
      "text/plain": [
       "<Figure size 432x288 with 1 Axes>"
      ]
     },
     "metadata": {},
     "output_type": "display_data"
    }
   ],
   "source": [
    "sns.lineplot(x='total_actions', y='regret', hue='learner', data=trials_df)"
   ]
  },
  {
   "cell_type": "markdown",
   "metadata": {},
   "source": [
    "### Gaussian Arms"
   ]
  },
  {
   "cell_type": "code",
   "execution_count": 92,
   "metadata": {},
   "outputs": [],
   "source": [
    "ThompsonSampling?"
   ]
  },
  {
   "cell_type": "code",
   "execution_count": 125,
   "metadata": {},
   "outputs": [
    {
     "name": "stdout",
     "output_type": "stream",
     "text": [
      "[4.47213595499958, 7.745966692414834, 8.94427190999916, 6.324555320336759]\n"
     ]
    }
   ],
   "source": [
    "horizon = 3000\n",
    "\n",
    "means = [((i/5)**0.5)*10 for i in range(1,5)]\n",
    "random.shuffle(means)\n",
    "print(means)\n",
    "\n",
    "arms = [GaussianArm(mu=mean, std=1) for mean in means]\n",
    "bandit = MultiArmedBandit(arms=arms)\n",
    "learners = [ExploreThenCommit(arm_num=len(arms), T_prime=100, name='Explore Then Commit'),\n",
    "            EpsGreedy(arm_num=len(arms), name='Epsilon Greedy'), \n",
    "            UCB(arm_num=len(arms), name='UCB'),\n",
    "            ThompsonSampling(arm_num=len(arms), prior_dist='gaussian', name='Thompson Sampling')]\n",
    "# Report intermediate regrets after these horizons\n",
    "intermediate_horizons = list(range(0, horizon+1, 50))\n",
    "temp_file = tempfile.NamedTemporaryFile()"
   ]
  },
  {
   "cell_type": "code",
   "execution_count": 126,
   "metadata": {},
   "outputs": [
    {
     "name": "stderr",
     "output_type": "stream",
     "text": [
      "INFO:absl:start Explore Then Commit's play with multi_armed_bandit\n",
      "INFO:absl:Explore Then Commit's play with multi_armed_bandit runs 1.06 seconds.\n",
      "INFO:absl:start Epsilon Greedy's play with multi_armed_bandit\n",
      "INFO:absl:Epsilon Greedy's play with multi_armed_bandit runs 1.01 seconds.\n",
      "INFO:absl:start UCB's play with multi_armed_bandit\n",
      "INFO:absl:UCB's play with multi_armed_bandit runs 0.96 seconds.\n",
      "INFO:absl:start Thompson Sampling's play with multi_armed_bandit\n",
      "INFO:absl:Thompson Sampling's play with multi_armed_bandit runs 1.09 seconds.\n"
     ]
    }
   ],
   "source": [
    "game = SinglePlayerProtocol(bandit, learners)\n",
    "# Start playing the game\n",
    "# Add `debug=True` for debugging purpose\n",
    "game.play(200, temp_file.name, intermediate_horizons=intermediate_horizons, horizon=horizon, debug=True)"
   ]
  },
  {
   "cell_type": "code",
   "execution_count": 127,
   "metadata": {},
   "outputs": [
    {
     "data": {
      "text/html": [
       "<div>\n",
       "<style scoped>\n",
       "    .dataframe tbody tr th:only-of-type {\n",
       "        vertical-align: middle;\n",
       "    }\n",
       "\n",
       "    .dataframe tbody tr th {\n",
       "        vertical-align: top;\n",
       "    }\n",
       "\n",
       "    .dataframe thead th {\n",
       "        text-align: right;\n",
       "    }\n",
       "</style>\n",
       "<table border=\"1\" class=\"dataframe\">\n",
       "  <thead>\n",
       "    <tr style=\"text-align: right;\">\n",
       "      <th></th>\n",
       "      <th>rounds</th>\n",
       "      <th>total_actions</th>\n",
       "      <th>regret</th>\n",
       "      <th>other</th>\n",
       "      <th>bandit</th>\n",
       "      <th>learner</th>\n",
       "    </tr>\n",
       "  </thead>\n",
       "  <tbody>\n",
       "    <tr>\n",
       "      <th>239</th>\n",
       "      <td>2800</td>\n",
       "      <td>2800</td>\n",
       "      <td>6.397501</td>\n",
       "      <td>0.0</td>\n",
       "      <td>multi_armed_bandit</td>\n",
       "      <td>Thompson Sampling</td>\n",
       "    </tr>\n",
       "    <tr>\n",
       "      <th>240</th>\n",
       "      <td>2850</td>\n",
       "      <td>2850</td>\n",
       "      <td>11.716328</td>\n",
       "      <td>0.0</td>\n",
       "      <td>multi_armed_bandit</td>\n",
       "      <td>Thompson Sampling</td>\n",
       "    </tr>\n",
       "    <tr>\n",
       "      <th>241</th>\n",
       "      <td>2900</td>\n",
       "      <td>2900</td>\n",
       "      <td>13.355135</td>\n",
       "      <td>0.0</td>\n",
       "      <td>multi_armed_bandit</td>\n",
       "      <td>Thompson Sampling</td>\n",
       "    </tr>\n",
       "    <tr>\n",
       "      <th>242</th>\n",
       "      <td>2950</td>\n",
       "      <td>2950</td>\n",
       "      <td>14.093944</td>\n",
       "      <td>0.0</td>\n",
       "      <td>multi_armed_bandit</td>\n",
       "      <td>Thompson Sampling</td>\n",
       "    </tr>\n",
       "    <tr>\n",
       "      <th>243</th>\n",
       "      <td>3000</td>\n",
       "      <td>3000</td>\n",
       "      <td>23.370186</td>\n",
       "      <td>0.0</td>\n",
       "      <td>multi_armed_bandit</td>\n",
       "      <td>Thompson Sampling</td>\n",
       "    </tr>\n",
       "  </tbody>\n",
       "</table>\n",
       "</div>"
      ],
      "text/plain": [
       "     rounds  total_actions     regret  other              bandit   \n",
       "239    2800           2800   6.397501    0.0  multi_armed_bandit  \\\n",
       "240    2850           2850  11.716328    0.0  multi_armed_bandit   \n",
       "241    2900           2900  13.355135    0.0  multi_armed_bandit   \n",
       "242    2950           2950  14.093944    0.0  multi_armed_bandit   \n",
       "243    3000           3000  23.370186    0.0  multi_armed_bandit   \n",
       "\n",
       "               learner  \n",
       "239  Thompson Sampling  \n",
       "240  Thompson Sampling  \n",
       "241  Thompson Sampling  \n",
       "242  Thompson Sampling  \n",
       "243  Thompson Sampling  "
      ]
     },
     "execution_count": 127,
     "metadata": {},
     "output_type": "execute_result"
    }
   ],
   "source": [
    "trials_df = trials_to_dataframe(temp_file.name)\n",
    "trials_df.tail()"
   ]
  },
  {
   "cell_type": "code",
   "execution_count": 128,
   "metadata": {},
   "outputs": [
    {
     "data": {
      "text/plain": [
       "<Axes: xlabel='total_actions', ylabel='regret'>"
      ]
     },
     "execution_count": 128,
     "metadata": {},
     "output_type": "execute_result"
    },
    {
     "data": {
      "image/png": "[encoded data removed]",
      "text/plain": [
       "<Figure size 432x288 with 1 Axes>"
      ]
     },
     "metadata": {},
     "output_type": "display_data"
    }
   ],
   "source": [
    "sns.lineplot(x='total_actions', y='regret', hue='learner', data=trials_df)"
   ]
  },
  {
   "cell_type": "code",
   "execution_count": null,
   "metadata": {},
   "outputs": [],
   "source": []
  },
  {
   "cell_type": "code",
   "execution_count": null,
   "metadata": {},
   "outputs": [],
   "source": []
  },
  {
   "cell_type": "code",
   "execution_count": null,
   "metadata": {},
   "outputs": [],
   "source": []
  }
 ],
 "metadata": {
  "kernelspec": {
   "display_name": "Python 3 (ipykernel)",
   "language": "python",
   "name": "python3"
  },
  "language_info": {
   "codemirror_mode": {
    "name": "ipython",
    "version": 3
   },
   "file_extension": ".py",
   "mimetype": "text/x-python",
   "name": "python",
   "nbconvert_exporter": "python",
   "pygments_lexer": "ipython3",
   "version": "3.9.9"
  }
 },
 "nbformat": 4,
 "nbformat_minor": 4
}
