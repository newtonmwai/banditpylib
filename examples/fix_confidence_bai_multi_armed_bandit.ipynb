{
 "cells": [
  {
   "cell_type": "code",
   "execution_count": 3,
   "metadata": {},
   "outputs": [],
   "source": [
    "import sys\n",
    "sys.path.append('../')\n",
    "\n",
    "import numpy as np\n",
    "import pandas as pd\n",
    "import tempfile\n",
    "import json\n",
    "import matplotlib.pyplot as plt\n",
    "import seaborn as sns\n",
    "sns.set(style=\"darkgrid\")\n",
    "%matplotlib inline\n",
    "\n",
    "import logging\n",
    "logging.getLogger().setLevel(logging.INFO)\n",
    "\n",
    "from banditpylib import trials_to_dataframe\n",
    "from banditpylib.arms import GaussianArm\n",
    "from banditpylib.bandits import MultiArmedBandit\n",
    "from banditpylib.protocols import SinglePlayerProtocol\n",
    "from banditpylib.learners.mab_fcbai_learner import ExpGap, LilUCBHeuristic, TrackAndStop, BatchRacing, BatchTrackAndStop\n",
    "from banditpylib.utils import argmax_or_min_tuple, argmax_or_min, argmax_or_min_tuple_second"
   ]
  },
  {
   "cell_type": "code",
   "execution_count": 4,
   "metadata": {},
   "outputs": [],
   "source": [
    "# batch_sizes = [4, 8, 32]\n",
    "# rhos= [0, 1e1, 1e3, 1e5]\n",
    "\n",
    "# # {\n",
    "# # \"m1\": [0.7, 0.4, 0.1],\n",
    "# # \"m2\": [0.9, 0.7, 0.4, 0.1],\n",
    "# # \"m3\": [0.9, 0.7, 0.5, 0.4, 0.45, 0.4, 0.3, 0.2]\n",
    "# # }\n",
    "\n",
    "# _means = [\"m1\", \"m2\", \"m3\"]#"
   ]
  },
  {
   "cell_type": "code",
   "execution_count": null,
   "metadata": {
    "scrolled": false
   },
   "outputs": [
    {
     "name": "stderr",
     "output_type": "stream",
     "text": [
      "INFO:absl:start Heuristic lilUCB's play with multi_armed_bandit\n",
      "INFO:absl:Heuristic lilUCB's play with multi_armed_bandit runs 2.35 seconds.\n",
      "INFO:absl:start Batched Track and stop's play with multi_armed_bandit\n"
     ]
    }
   ],
   "source": [
    "trials = 3\n",
    "confidence = 0.99\n",
    "means =  [0.9, 0.7, 0.5, 0.46, 0.45, 0.454, 0.453, 0.4]#, 0.33, 0.32, 0.3, 0.25, 0.24, 0.2] [0.9, 0.7, 0.5, 0.4, 0.1] #\n",
    "max_pulls=50000\n",
    "std=1\n",
    "batch_size=32\n",
    "gamma = 1e-4\n",
    "gammas =  [1e-7, 1e-3, 1e-5] \n",
    "#num_switches = len(means)-1\n",
    "num_switches = 2\n",
    "\n",
    "switches = [4, 1,2,  0]\n",
    "for num_switches in switches:\n",
    "#for gamma in gammas:\n",
    "    arms = [GaussianArm(mu=mean, std=std) for mean in means]\n",
    "    bandit = MultiArmedBandit(arms=arms)\n",
    "    learners = [\n",
    "    #             ExpGap(arm_num=len(arms), confidence=confidence, threshold=3,  name='Exponential-Gap Elimination'),\n",
    "    #             BatchRacing(arm_num=len(arms), confidence=confidence, max_pulls=max_pulls, \n",
    "    #                             k=1, b=batch_size, r=int(batch_size/2), name='BatchRacing'),\n",
    "\n",
    "        LilUCBHeuristic(arm_num=len(arms), confidence=confidence, max_pulls=max_pulls, name='Heuristic lilUCB'),\n",
    "        BatchTrackAndStop(arm_num=len(arms), num_switches=num_switches, confidence=confidence, batch_size=batch_size, gamma=gamma, \n",
    "                            max_pulls=max_pulls,  name='Batched Track and stop'),    \n",
    "    #         TrackAndStop(arm_num=len(arms), confidence=confidence, tracking_rule=\"D\", \n",
    "    #                             max_pulls=max_pulls,  name='Track and stop D-Tracking'),\n",
    "    #         TrackAndStop(arm_num=len(arms), confidence=confidence, tracking_rule=\"C\", \n",
    "    #                             max_pulls=max_pulls,  name='Track and stop C-Tracking')\n",
    "\n",
    "               ]\n",
    "\n",
    "    # For each setup, we run 20 trials\n",
    "    trials=trials\n",
    "    temp_file = tempfile.NamedTemporaryFile()\n",
    "\n",
    "    game = SinglePlayerProtocol(bandit=bandit, learners=learners)\n",
    "\n",
    "    # Add `debug=True` for debugging purpose\n",
    "    game.play(trials=trials, output_filename=temp_file.name)\n",
    "\n",
    "    # print(\"Sparsity: \", bts.sparsity)\n",
    "\n",
    "    # Start playing the game\n",
    "    trials_df = trials_to_dataframe(temp_file.name)\n",
    "    trials_df.to_csv(\"csv_files/trial_df_gamma_\" + str(gamma)+ \"_num_switches_\" + str(num_switches) + \"_.csv\", index=False)  # `index=False` ensures that the index is not saved in the CSV.\n",
    "\n",
    "    # rho=1e3\n",
    "# gammas= [0, 1e1, 1e3, 1e5]\n",
    "# #for num_switches in switches:\n",
    "# for gamma in gammas:\n",
    "#     arms = [GaussianArm(mu=mean, std=std) for mean in means]\n",
    "#     bandit = MultiArmedBandit(arms=arms)\n",
    "#     learners = [\n",
    "#     #             ExpGap(arm_num=len(arms), confidence=confidence, threshold=3,  name='Exponential-Gap Elimination'),\n",
    "#     #             BatchRacing(arm_num=len(arms), confidence=confidence, max_pulls=max_pulls, \n",
    "#     #                             k=1, b=batch_size, r=int(batch_size/2), name='BatchRacing'),\n",
    "\n",
    "#         LilUCBHeuristic(arm_num=len(arms), confidence=confidence, max_pulls=max_pulls, name='Heuristic lilUCB'),\n",
    "#         BatchTrackAndStop(arm_num=len(arms), num_switches=num_switches, confidence=confidence, batch_size=batch_size, rho=rho, gamma=gamma, \n",
    "#                             max_pulls=max_pulls,  name='Batched Track and stop'),        \n",
    "# #         TrackAndStop(arm_num=len(arms), confidence=confidence, tracking_rule=\"D\", \n",
    "# #                             max_pulls=max_pulls,  name='Track and stop D-Tracking'),\n",
    "# #         TrackAndStop(arm_num=len(arms), confidence=confidence, tracking_rule=\"C\", \n",
    "# #                             max_pulls=max_pulls,  name='Track and stop C-Tracking')\n",
    "\n",
    "#                ]\n",
    "\n",
    "#     # For each setup, we run 20 trials\n",
    "#     trials=trials\n",
    "#     temp_file = tempfile.NamedTemporaryFile()\n",
    "\n",
    "#     game = SinglePlayerProtocol(bandit=bandit, learners=learners)\n",
    "#     # Start playing the game\n",
    "#     # Add `debug=True` for debugging purpose\n",
    "#     game.play(trials=trials, output_filename=temp_file.name)\n",
    "\n",
    "#     trials_df = trials_to_dataframe(temp_file.name)\n",
    "#     trials_df.to_csv(\"csv_files/trial_df_rho_\" + str(rho) + \"_gamma_\" + str(gamma) + \"_.csv\", index=False)  # `index=False` ensures that the index is not saved in the CSV."
   ]
  },
  {
   "cell_type": "code",
   "execution_count": null,
   "metadata": {},
   "outputs": [],
   "source": [
    "# game = SinglePlayerProtocol(bandit=bandit, learners=learners)\n",
    "# # Start playing the game\n",
    "# # Add `debug=True` for debugging purpose\n",
    "# game.play(trials=trials, output_filename=temp_file.name)"
   ]
  },
  {
   "cell_type": "code",
   "execution_count": null,
   "metadata": {},
   "outputs": [],
   "source": [
    "# trials_df = trials_to_dataframe(temp_file.name)\n",
    "# trials_df.to_csv(\"trial_df_rho_\" + str(rho) + \"_batch_size_\" + str(batch_size) + \"_.csv\", index=False)  # `index=False` ensures that the index is not saved in the CSV."
   ]
  },
  {
   "cell_type": "code",
   "execution_count": null,
   "metadata": {},
   "outputs": [],
   "source": [
    "# trials_df.tail(100)"
   ]
  },
  {
   "cell_type": "code",
   "execution_count": null,
   "metadata": {},
   "outputs": [],
   "source": [
    "trials_df['confidence'] = 0.99"
   ]
  },
  {
   "cell_type": "code",
   "execution_count": null,
   "metadata": {},
   "outputs": [],
   "source": [
    "fig = plt.figure()\n",
    "ax = plt.subplot(111)\n",
    "sns.barplot(x='confidence', y='total_actions', hue='learner', data=trials_df)\n",
    "plt.ylabel('pulls')\n",
    "ax.legend(loc='center left', bbox_to_anchor=(1, 0.5))"
   ]
  },
  {
   "cell_type": "code",
   "execution_count": null,
   "metadata": {},
   "outputs": [],
   "source": [
    "fig = plt.figure()\n",
    "ax = plt.subplot(111)\n",
    "sns.barplot(x='confidence', y='rounds', hue='learner', data=trials_df)\n",
    "plt.ylabel('rounds')\n",
    "ax.legend(loc='center left', bbox_to_anchor=(1, 0.5))"
   ]
  },
  {
   "cell_type": "code",
   "execution_count": null,
   "metadata": {},
   "outputs": [],
   "source": []
  },
  {
   "cell_type": "code",
   "execution_count": null,
   "metadata": {},
   "outputs": [],
   "source": [
    "arm_num=8\n",
    "w0 = np.ones(arm_num) / arm_num\n",
    "r0 = 1\n",
    "initial_guess = np.append(w0, r0)\n",
    "\n",
    "w_values = np.zeros((arm_num, w0.shape[0]))\n",
    "fx_values = np.zeros((arm_num))"
   ]
  },
  {
   "cell_type": "code",
   "execution_count": null,
   "metadata": {},
   "outputs": [],
   "source": [
    "w_values[0]"
   ]
  },
  {
   "cell_type": "code",
   "execution_count": null,
   "metadata": {},
   "outputs": [],
   "source": []
  }
 ],
 "metadata": {
  "kernelspec": {
   "display_name": "Python 3 (ipykernel)",
   "language": "python",
   "name": "python3"
  },
  "language_info": {
   "codemirror_mode": {
    "name": "ipython",
    "version": 3
   },
   "file_extension": ".py",
   "mimetype": "text/x-python",
   "name": "python",
   "nbconvert_exporter": "python",
   "pygments_lexer": "ipython3",
   "version": "3.8.16"
  }
 },
 "nbformat": 4,
 "nbformat_minor": 4
}
