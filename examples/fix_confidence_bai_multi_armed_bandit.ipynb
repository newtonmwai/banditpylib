{
 "cells": [
  {
   "cell_type": "code",
   "execution_count": 1,
   "metadata": {},
   "outputs": [],
   "source": [
    "import sys\n",
    "sys.path.append('../')\n",
    "\n",
    "import numpy as np\n",
    "import pandas as pd\n",
    "import tempfile\n",
    "import json\n",
    "import matplotlib.pyplot as plt\n",
    "import seaborn as sns\n",
    "sns.set(style=\"darkgrid\")\n",
    "\n",
    "import logging\n",
    "logging.getLogger().setLevel(logging.INFO)\n",
    "\n",
    "from banditpylib import trials_to_dataframe\n",
    "from banditpylib.arms import GaussianArm\n",
    "from banditpylib.bandits import MultiArmedBandit\n",
    "from banditpylib.protocols import SinglePlayerProtocol\n",
    "from banditpylib.learners.mab_fcbai_learner import ExpGap, LilUCBHeuristic, TrackAndStop\n",
    "from banditpylib.utils import argmax_or_min_tuple, argmax_or_min, argmax_or_min_tuple_second"
   ]
  },
  {
   "cell_type": "code",
   "execution_count": 2,
   "metadata": {},
   "outputs": [],
   "source": [
    "confidence = 0.95\n",
    "means =  [0.1, 0.4, 0.7]\n",
    "#means = [0.5, 0.45, 0.43, 0.4] #w∗(µ1) = [0.417 0.390 0.136 0.057]\n",
    "#means =  [0.3, 0.21, 0.2, 0.19, 0.18] #w∗(µ2) = [0.336, 0.251, 0.177, 0.132, 0.104]\n",
    "max_pulls=3000\n",
    "forced_exp_pulls=20\n",
    "std=1\n",
    "\n",
    "arms = [GaussianArm(mu=mean, std=std) for mean in means]\n",
    "bandit = MultiArmedBandit(arms=arms)\n",
    "learners = [\n",
    "            #ExpGap(arm_num=len(arms), confidence=confidence, threshold=3, name='Exponential-Gap Elimination'),\n",
    "            LilUCBHeuristic(arm_num=len(arms), confidence=confidence, name='Heuristic lilUCB'),\n",
    "            TrackAndStop(arm_num=len(arms), confidence=confidence, tracking_rule=\"D\", \n",
    "                        max_pulls=max_pulls, forced_exp_pulls=forced_exp_pulls, std=std, name='Track and stop')\n",
    "           ]\n",
    "\n",
    "# For each setup, we run 20 trials\n",
    "trials = 20\n",
    "temp_file = tempfile.NamedTemporaryFile()"
   ]
  },
  {
   "cell_type": "code",
   "execution_count": null,
   "metadata": {
    "scrolled": true
   },
   "outputs": [
    {
     "name": "stderr",
     "output_type": "stream",
     "text": [
      "INFO:absl:start Heuristic lilUCB's play with multi_armed_bandit\n",
      "INFO:absl:Heuristic lilUCB's play with multi_armed_bandit runs 7.26 seconds.\n",
      "INFO:absl:start Track and stop's play with multi_armed_bandit\n"
     ]
    }
   ],
   "source": [
    "game = SinglePlayerProtocol(bandit=bandit, learners=learners)\n",
    "# Start playing the game\n",
    "# Add `debug=True` for debugging purpose\n",
    "game.play(trials=trials, output_filename=temp_file.name)"
   ]
  },
  {
   "cell_type": "code",
   "execution_count": null,
   "metadata": {},
   "outputs": [],
   "source": [
    "trials_df = trials_to_dataframe(temp_file.name)"
   ]
  },
  {
   "cell_type": "code",
   "execution_count": null,
   "metadata": {},
   "outputs": [],
   "source": [
    "trials_df.head()"
   ]
  },
  {
   "cell_type": "code",
   "execution_count": null,
   "metadata": {},
   "outputs": [],
   "source": [
    "trials_df['confidence'] = confidence"
   ]
  },
  {
   "cell_type": "code",
   "execution_count": null,
   "metadata": {
    "scrolled": false
   },
   "outputs": [],
   "source": [
    "fig = plt.figure()\n",
    "ax = plt.subplot(111)\n",
    "sns.barplot(x='confidence', y='total_actions', hue='learner', data=trials_df)\n",
    "plt.ylabel('pulls')\n",
    "ax.legend(loc='center left', bbox_to_anchor=(1, 0.5))"
   ]
  },
  {
   "cell_type": "code",
   "execution_count": null,
   "metadata": {},
   "outputs": [],
   "source": []
  }
 ],
 "metadata": {
  "kernelspec": {
   "display_name": "Python 3 (ipykernel)",
   "language": "python",
   "name": "python3"
  },
  "language_info": {
   "codemirror_mode": {
    "name": "ipython",
    "version": 3
   },
   "file_extension": ".py",
   "mimetype": "text/x-python",
   "name": "python",
   "nbconvert_exporter": "python",
   "pygments_lexer": "ipython3",
   "version": "3.8.16"
  }
 },
 "nbformat": 4,
 "nbformat_minor": 4
}
